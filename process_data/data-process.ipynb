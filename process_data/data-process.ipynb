{
 "cells": [
  {
   "cell_type": "markdown",
   "metadata": {},
   "source": [
    "数据集处理为出bone模态"
   ]
  },
  {
   "cell_type": "code",
   "execution_count": 1,
   "metadata": {},
   "outputs": [
    {
     "name": "stdout",
     "output_type": "stream",
     "text": [
      "test_A\n",
      "train\n",
      "100%|███████████████████████████████████████████| 18/18 [00:02<00:00,  6.62it/s]\n",
      "100%|███████████████████████████████████████████| 18/18 [00:21<00:00,  1.21s/it]\n"
     ]
    }
   ],
   "source": [
    "!python gen_modal.py --modal bone --use_mp True"
   ]
  },
  {
   "cell_type": "markdown",
   "metadata": {},
   "source": [
    "bone模态与joint模态合并"
   ]
  },
  {
   "cell_type": "code",
   "execution_count": 2,
   "metadata": {},
   "outputs": [
    {
     "name": "stdout",
     "output_type": "stream",
     "text": [
      "train\n",
      "test_A\n"
     ]
    }
   ],
   "source": [
    "!python gen_modal.py --modal jmb --use_mp True"
   ]
  },
  {
   "cell_type": "markdown",
   "metadata": {},
   "source": [
    "数据集处理出motion模态数据"
   ]
  },
  {
   "cell_type": "code",
   "execution_count": 3,
   "metadata": {},
   "outputs": [
    {
     "name": "stdout",
     "output_type": "stream",
     "text": [
      "test_A bone\n",
      "100%|████████████████████████████████████████| 299/299 [00:00<00:00, 430.83it/s]\n",
      "test_A joint\n",
      "100%|████████████████████████████████████████| 299/299 [00:00<00:00, 434.01it/s]\n",
      "train bone\n",
      "100%|█████████████████████████████████████████| 299/299 [00:06<00:00, 46.11it/s]\n",
      "train joint\n",
      "100%|█████████████████████████████████████████| 299/299 [00:06<00:00, 45.79it/s]\n"
     ]
    }
   ],
   "source": [
    "!python gen_modal.py --modal motion"
   ]
  },
  {
   "cell_type": "markdown",
   "metadata": {},
   "source": [
    "测试生成数据"
   ]
  },
  {
   "cell_type": "code",
   "execution_count": 4,
   "metadata": {},
   "outputs": [
    {
     "name": "stdout",
     "output_type": "stream",
     "text": [
      "(2000, 3, 300, 17, 2)\n",
      "(2000,)\n"
     ]
    }
   ],
   "source": [
    "import numpy as np\n",
    "\n",
    "x = np.load('data/test_A_joint.npy',mmap_mode='r')\n",
    "print(x.shape)\n",
    "\n",
    "x = np.load('data/test_A_label.npy',mmap_mode='r')\n",
    "print(x.shape)"
   ]
  },
  {
   "cell_type": "code",
   "execution_count": null,
   "metadata": {},
   "outputs": [],
   "source": []
  }
 ],
 "metadata": {
  "kernelspec": {
   "display_name": "mmvrac",
   "language": "python",
   "name": "python3"
  },
  "language_info": {
   "codemirror_mode": {
    "name": "ipython",
    "version": 3
   },
   "file_extension": ".py",
   "mimetype": "text/x-python",
   "name": "python",
   "nbconvert_exporter": "python",
   "pygments_lexer": "ipython3",
   "version": "3.10.14"
  }
 },
 "nbformat": 4,
 "nbformat_minor": 2
}
